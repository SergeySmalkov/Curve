{
 "cells": [
  {
   "cell_type": "code",
   "execution_count": 1,
   "metadata": {},
   "outputs": [
    {
     "data": {
      "image/png": "[encoded data removed]",
      "text/plain": [
       "<Figure size 432x288 with 1 Axes>"
      ]
     },
     "metadata": {
      "needs_background": "light"
     },
     "output_type": "display_data"
    },
    {
     "name": "stdout",
     "output_type": "stream",
     "text": [
      "   Days   Rates\n",
      "0     1  0.0575\n",
      "1     7  0.0580\n",
      "2    14  0.0585\n",
      "3    31  0.0595\n",
      "4    61  0.0605\n",
      "5    92  0.0610\n",
      "6   182  0.0630\n",
      "7   271  0.0650\n",
      "8   365  0.0675\n"
     ]
    }
   ],
   "source": [
    "#Market quotes FX Swapollas\n",
    "spot_curve = [[1, 0.0575],\n",
    "             [7, 0.058],\n",
    "             [14, 0.0585],\n",
    "             [31, 0.0595],\n",
    "             [61, 0.0605],\n",
    "             [92, 0.0610],\n",
    "             [182, 0.063],\n",
    "             [271, 0.0650],\n",
    "             [365, 0.0675]]\n",
    "\n",
    "import pandas as pd\n",
    "import numpy as np\n",
    "import matplotlib.pyplot as plt\n",
    "curve = pd.DataFrame(spot_curve, columns = [\"Days\", \"Rates\"])\n",
    "\n",
    "\n",
    "plt.plot(curve[\"Days\"], curve[\"Rates\"], color = 'blue', linewidth = 3, linestyle='-')\n",
    "plt.xlabel(\"FX Swap Spot curve\")\n",
    "plt.ylabel(\"Rate\")\n",
    "plt.show()\n",
    "print(curve)"
   ]
  },
  {
   "cell_type": "code",
   "execution_count": 2,
   "metadata": {},
   "outputs": [],
   "source": [
    "from scipy.optimize import root\n",
    "from scipy import interpolate\n",
    "from scipy.optimize import fsolve\n",
    "\n",
    "def linear_compounder(last_fwd):\n",
    "    \n",
    "    x = np.array([0, fwd_days])\n",
    "    y = np.array([first_fwd, last_fwd])\n",
    "    f = interpolate.interp1d(x, y, kind='linear')\n",
    "    xnew = np.arange(0, fwd_days + 1, 1)\n",
    "    ynew = f(xnew)  \n",
    "    result = 1\n",
    "    for i in range(1, len(ynew)):\n",
    "        result = result * (1 + ynew[i] / 365)\n",
    "    return (result - 1.0) * 365 / fwd_days - forward_rate\n",
    "    \n",
    "def solver(fwd_days, first_fwd, forward_rate):\n",
    "    root = fsolve(linear_compounder, [0.01])[0]\n",
    "    cmp = linear_compounder(root)\n",
    "    x = np.array([0, fwd_days])\n",
    "    y = np.array([first_fwd, root])\n",
    "    f = interpolate.interp1d(x, y)\n",
    "    xnew = np.arange(0, fwd_days + 1, 1)\n",
    "    ynew = f(xnew)\n",
    "    return ynew[1:]"
   ]
  },
  {
   "cell_type": "code",
   "execution_count": 4,
   "metadata": {},
   "outputs": [
    {
     "name": "stderr",
     "output_type": "stream",
     "text": [
      "/tmp/ipykernel_304544/244592987.py:8: VisibleDeprecationWarning: Creating an ndarray from ragged nested sequences (which is a list-or-tuple of lists-or-tuples-or ndarrays with different lengths or shapes) is deprecated. If you meant to do this, you must specify 'dtype=object' when creating the ndarray.\n",
      "  y = np.array([first_fwd, last_fwd])\n"
     ]
    },
    {
     "data": {
      "image/png": "[encoded data removed]",
      "text/plain": [
       "<Figure size 432x288 with 1 Axes>"
      ]
     },
     "metadata": {
      "needs_background": "light"
     },
     "output_type": "display_data"
    },
    {
     "name": "stdout",
     "output_type": "stream",
     "text": [
      "     fwd_rate\n",
      "0    0.057500\n",
      "1    0.057657\n",
      "2    0.057815\n",
      "3    0.057972\n",
      "4    0.058130\n",
      "..        ...\n",
      "360  0.073903\n",
      "361  0.073980\n",
      "362  0.074057\n",
      "363  0.074134\n",
      "364  0.074212\n",
      "\n",
      "[365 rows x 1 columns]\n"
     ]
    }
   ],
   "source": [
    "first_fwd = curve[\"Rates\"][0]\n",
    "forward_curve = pd.DataFrame(columns = [\"fwd_rate\"])\n",
    "forward_curve.loc[0] = first_fwd\n",
    "\n",
    "for i in range(1, len(curve)):\n",
    "    fwd_days =  curve[\"Days\"][i] - curve[\"Days\"][i - 1]                          #6\n",
    "    forward_rate = ((1 + curve[\"Rates\"][i] * curve[\"Days\"][i] / 365) / \n",
    "                (1 + curve[\"Rates\"][i - 1] * curve[\"Days\"][i - 1] / 365) - 1 ) * 365 / (\n",
    "        curve[\"Days\"][i] - curve[\"Days\"][i - 1])                  # 1-7 rate\n",
    "    first_fwd = forward_curve.iloc[-1][0]                                          # 0-1 rate\n",
    "    rates = solver(fwd_days, first_fwd, forward_rate)                           # 1 - 7 rate\n",
    "    forward_curve = forward_curve.append(pd.DataFrame(rates, columns = [\"fwd_rate\"]), ignore_index = True)\n",
    "\n",
    "plt.plot(forward_curve[\"fwd_rate\"], color = 'blue', linewidth = 3, linestyle='-')\n",
    "plt.xlabel(\"Forward curve\")\n",
    "plt.ylabel(\"Rate\")\n",
    "plt.show()\n",
    "print(forward_curve)"
   ]
  },
  {
   "cell_type": "code",
   "execution_count": 243,
   "metadata": {},
   "outputs": [
    {
     "data": {
      "text/plain": [
       "[0.0575, 0.058, 0.0585, 0.0595, 0.0605, 0.0615, 0.063, 0.065, 0.0675]"
      ]
     },
     "execution_count": 243,
     "metadata": {},
     "output_type": "execute_result"
    }
   ],
   "source": [
    "#Check\n",
    "curve_check = []\n",
    "for i in range(len(curve)):\n",
    "    result = 1\n",
    "    for j in range(curve[\"Days\"][i]):\n",
    "        result = result * (1 + forward_curve[\"fwd_rate\"][j] / 365)\n",
    "    curve_check.append(round((result - 1) * 365 / curve[\"Days\"][i], 5))\n",
    "curve_check"
   ]
  },
  {
   "cell_type": "code",
   "execution_count": null,
   "metadata": {},
   "outputs": [],
   "source": []
  },
  {
   "cell_type": "code",
   "execution_count": null,
   "metadata": {},
   "outputs": [],
   "source": []
  },
  {
   "cell_type": "code",
   "execution_count": 180,
   "metadata": {},
   "outputs": [],
   "source": []
  },
  {
   "cell_type": "code",
   "execution_count": null,
   "metadata": {},
   "outputs": [],
   "source": []
  },
  {
   "cell_type": "code",
   "execution_count": null,
   "metadata": {},
   "outputs": [],
   "source": []
  }
 ],
 "metadata": {
  "kernelspec": {
   "display_name": "Python 3 (ipykernel)",
   "language": "python",
   "name": "python3"
  },
  "language_info": {
   "codemirror_mode": {
    "name": "ipython",
    "version": 3
   },
   "file_extension": ".py",
   "mimetype": "text/x-python",
   "name": "python",
   "nbconvert_exporter": "python",
   "pygments_lexer": "ipython3",
   "version": "3.9.7"
  }
 },
 "nbformat": 4,
 "nbformat_minor": 2
}
